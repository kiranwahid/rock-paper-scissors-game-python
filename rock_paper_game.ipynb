{
  "nbformat": 4,
  "nbformat_minor": 0,
  "metadata": {
    "colab": {
      "provenance": [],
      "authorship_tag": "ABX9TyPda5sU5d48PVc71BLgkJvO",
      "include_colab_link": true
    },
    "kernelspec": {
      "name": "python3",
      "display_name": "Python 3"
    },
    "language_info": {
      "name": "python"
    }
  },
  "cells": [
    {
      "cell_type": "markdown",
      "metadata": {
        "id": "view-in-github",
        "colab_type": "text"
      },
      "source": [
        "<a href=\"https://colab.research.google.com/github/kiranwahid/rock-paper-scissors-game-python/blob/main/rock_paper_game.ipynb\" target=\"_parent\"><img src=\"https://colab.research.google.com/assets/colab-badge.svg\" alt=\"Open In Colab\"/></a>"
      ]
    },
    {
      "cell_type": "markdown",
      "source": [
        "**Project 04: Rock, paper, scissors Python Project**"
      ],
      "metadata": {
        "id": "0rmCkI54TUVi"
      }
    },
    {
      "cell_type": "code",
      "source": [
        "import random  # Import the random module to allow the computer to make random choices.\n",
        "\n",
        "# Define the rock-paper-scissors game function.\n",
        "def rock_paper_scissors():\n",
        "    # List of possible choices for the game.\n",
        "    choices = [\"rock\", \"paper\", \"scissors\"]\n",
        "\n",
        "    # Infinite loop to keep the game running until the user decides to stop.\n",
        "    while True:\n",
        "        # Prompt the user to choose rock, paper, or scissors, and convert the input to lowercase.\n",
        "        user_choice = input(\"Choose: 🪨 rock, 📄 paper, ✂️ scissors: \\n\").lower()\n",
        "\n",
        "        # The computer randomly selects one of the choices.\n",
        "        computer_choice = random.choice(choices)\n",
        "\n",
        "        # Check if the user's input is a valid choice (rock, paper, or scissors).\n",
        "        if user_choice not in choices:\n",
        "            print(\"Invalid choice. Please try again! 🤔\")\n",
        "            continue  # Restart the loop if the user input is invalid.\n",
        "\n",
        "        # Display the choices made by the user and the computer.\n",
        "        print(f\"\\nYou chose: {user_choice.capitalize()} 🧑\")\n",
        "        print(f\"Computer chose: {computer_choice.capitalize()} 💻\")\n",
        "\n",
        "        # Determine the outcome of the game (tie, win, or loss).\n",
        "        if user_choice == computer_choice:\n",
        "            print(\"It's a tie! 😐 You both chose the same.\")  # Case where both the user and the computer chose the same.\n",
        "        elif (user_choice == \"rock\" and computer_choice == \"scissors\") or \\\n",
        "             (user_choice == \"paper\" and computer_choice == \"rock\") or \\\n",
        "             (user_choice == \"scissors\" and computer_choice == \"paper\"):\n",
        "            print(\"🎉 You win!\")  # The user wins if their choice beats the computer's choice.\n",
        "        else:\n",
        "            print(\"😔 Computer wins!\")  # The computer wins in all other cases.\n",
        "\n",
        "        # Ask the user if they want to play again.\n",
        "        play_again = input(\"\\nDo you want to play again? (yes/no): \").lower()\n",
        "\n",
        "        # If the user doesn't enter \"yes\", the game ends.\n",
        "        if play_again != \"yes\":\n",
        "            print(\"\\nThanks for playing! 👋\")  # Goodbye message when the game ends.\n",
        "            break  # Exit the loop and end the game.\n",
        "\n",
        "# Call the function to start the game.\n",
        "rock_paper_scissors()\n"
      ],
      "metadata": {
        "id": "u0W_N5b3TjmW"
      },
      "execution_count": null,
      "outputs": []
    }
  ]
}